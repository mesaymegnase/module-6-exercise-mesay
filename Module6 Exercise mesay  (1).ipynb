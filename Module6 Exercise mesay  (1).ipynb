{
 "cells": [
  {
   "cell_type": "markdown",
   "metadata": {},
   "source": [
    "### Exercise 1\n",
    "Convert following decimal number to a binary number by hand:\n",
    "\n",
    "    61\n",
    "    15\n",
    "    71\n",
    "    "
   ]
  },
  {
   "cell_type": "code",
   "execution_count": null,
   "metadata": {},
   "outputs": [],
   "source": [
    "divided                  remainder\n",
    "61/2=30                      1\n",
    "30/2=15                       0\n",
    "15/2=7                       1\n",
    "7/2=3                       1\n",
    "3/2=1                       1\n",
    "1/2=0                       1\n",
    "bin(61)=0b111101\n",
    "15\n",
    "15/2=7                      1\n",
    "7/2=3                       1\n",
    "3/2=1                       1\n",
    "1/2=0                        1\n",
    "bin(15)=0b1111\n",
    "\n",
    "71/2=35                       1\n",
    "35/2=17                      1\n",
    "17/2=8                       1\n",
    "8/2=4                        0\n",
    "4/2=2                        0\n",
    "2/2=1                        0\n",
    "1/2=0                       1\n",
    "bin(71)=0b1000111\n",
    "\n"
   ]
  },
  {
   "cell_type": "markdown",
   "metadata": {},
   "source": [
    "### Exercise 2\n",
    "When a = 61 and b = 15, what is the result of following bitwise opertion? Use inline comments to show your result in a binary number. Find your answer by hand.\n",
    "\n",
    "    a & b\n",
    "    a | b\n",
    "    a ^ b\n",
    "    a >> 2\n",
    "    "
   ]
  },
  {
   "cell_type": "code",
   "execution_count": null,
   "metadata": {},
   "outputs": [],
   "source": [
    "# convert a in to a binary number\n",
    "a=61      #0011 1101\n",
    "\n",
    "# convert b in to a binary number\n",
    "b=15      #0000 1111\n"
   ]
  },
  {
   "cell_type": "code",
   "execution_count": null,
   "metadata": {},
   "outputs": [],
   "source": [
    "# a & b\n",
    "a=61      #0011 1101\n",
    "b=15      #00001111\n",
    "# a&b\n",
    "13"
   ]
  },
  {
   "cell_type": "code",
   "execution_count": 5,
   "metadata": {},
   "outputs": [
    {
     "ename": "NameError",
     "evalue": "name 'a' is not defined",
     "output_type": "error",
     "traceback": [
      "\u001b[1;31m---------------------------------------------------------------------------\u001b[0m",
      "\u001b[1;31mNameError\u001b[0m                                 Traceback (most recent call last)",
      "\u001b[1;32m<ipython-input-5-0c34950bc12e>\u001b[0m in \u001b[0;36m<module>\u001b[1;34m\u001b[0m\n\u001b[0;32m      1\u001b[0m \u001b[1;31m# a | b\u001b[0m\u001b[1;33m\u001b[0m\u001b[1;33m\u001b[0m\u001b[1;33m\u001b[0m\u001b[0m\n\u001b[1;32m----> 2\u001b[1;33m \u001b[0ma\u001b[0m\u001b[1;33m/\u001b[0m\u001b[0mb\u001b[0m\u001b[1;33m\u001b[0m\u001b[1;33m\u001b[0m\u001b[0m\n\u001b[0m",
      "\u001b[1;31mNameError\u001b[0m: name 'a' is not defined"
     ]
    }
   ],
   "source": [
    "# a | b\n",
    "a/b\n",
    "4.066666"
   ]
  },
  {
   "cell_type": "code",
   "execution_count": 4,
   "metadata": {},
   "outputs": [],
   "source": [
    "# a ^ b\n",
    "a^b\n",
    "50\n"
   ]
  },
  {
   "cell_type": "code",
   "execution_count": null,
   "metadata": {},
   "outputs": [],
   "source": [
    "# a >> 2\n",
    "a>>2\n",
    "15"
   ]
  },
  {
   "cell_type": "markdown",
   "metadata": {},
   "source": [
    "### Exercise 3\n",
    "Ask a user for a code and store that answer. \n",
    "If the answer is <b>grey</b> then print \"You found secret code.\"\n",
    "Otherwise print that the entered code is not the secret code."
   ]
  },
  {
   "cell_type": "code",
   "execution_count": null,
   "metadata": {},
   "outputs": [],
   "source": [
    "Answer = input(\"enter grey or not grey:\")\n",
    "if answer == \"grey\"\n",
    "   print(\"you found the secret code\"):\n",
    "else answer == \"no grey\"\n",
    "   print(\"the entered code is not the secret code\"):\n",
    "else:\n",
    "   print(\"please enter grey or not.\")"
   ]
  },
  {
   "cell_type": "markdown",
   "metadata": {},
   "source": [
    "### Exercise 4\n",
    "Ask for an exam score and store that number. If the number is greater than 100, then print out 'You cannot have an exam score higher than 100'. If the number doesn't exceeed 100 but is greater than or equal to 75, then print out 'You did great on your exam!'. Otherwise if they scored lower than 75, then print out 'You need to study harder'."
   ]
  },
  {
   "cell_type": "code",
   "execution_count": null,
   "metadata": {},
   "outputs": [],
   "source": [
    "def exam-score(final-score):\n",
    "    if final-score < 100:\n",
    "        grade = \"you can not have an exam\"\n",
    "    elif 75 <= final-score <= 100:\n",
    "        grade = \"yoy did great on your exam\"\n",
    "    else:\n",
    "        grade = \"you need to study hard\"\n",
    "        return grade\n",
    "    "
   ]
  },
  {
   "cell_type": "markdown",
   "metadata": {},
   "source": [
    "### Exercise 5\n",
    "Write a function to convert a test score to a grade where  \n",
    " - 90 - 100: A\n",
    " - 80 - 89:  B\n",
    " - 70 - 79:  C\n",
    " - 60 - 69:  D\n",
    " - < 60   :  F\n",
    " \n",
    "If a score is not between 0 and 100 then print out an error message. In the program, ask the user for a score and then call your function. "
   ]
  },
  {
   "cell_type": "code",
   "execution_count": null,
   "metadata": {},
   "outputs": [],
   "source": [
    "# define your function\n",
    "def exam-score(final-score):\n",
    "     \n",
    "    if 90 <= final-score <= 100:\n",
    "        grade = \"A\"\n",
    "    elif 80 <= final-score <= 89:\n",
    "        grade = \"B\"\n",
    "    elif 70 <= final-score <= 79:\n",
    "        grade = \"C\"\n",
    "    elif 60 <= final-score <= 69:\n",
    "         grade = \"D\"\n",
    "    else:\n",
    "        grade = \"F\"\n",
    "    return grade\n",
    "    "
   ]
  },
  {
   "cell_type": "code",
   "execution_count": null,
   "metadata": {},
   "outputs": [],
   "source": [
    "# ask the user for a score and then call your function\n",
    "\n",
    "inp = raw-input(\"enter a number between 0 and 100:\")\n",
    "    score = float(inp)\n",
    "    if (score >= 100):\n",
    "        print(\"you didn't follow instructions\")\n",
    "        exit()\n",
    "      elif (score >= 90):\n",
    "        print(\"A\")\n",
    "      elif (score >= 80):\n",
    "        print(\"B\")\n",
    "      elif (score >= 70):\n",
    "        print(\"C\")\n",
    "     elif (score >= 69 ):\n",
    "        print(\"D\")\n",
    "     else (score < 60 ):\n",
    "        print(\"F\")\n",
    "        \n",
    "    "
   ]
  },
  {
   "cell_type": "code",
   "execution_count": null,
   "metadata": {},
   "outputs": [],
   "source": []
  }
 ],
 "metadata": {
  "kernelspec": {
   "display_name": "Python 3",
   "language": "python",
   "name": "python3"
  },
  "language_info": {
   "codemirror_mode": {
    "name": "ipython",
    "version": 3
   },
   "file_extension": ".py",
   "mimetype": "text/x-python",
   "name": "python",
   "nbconvert_exporter": "python",
   "pygments_lexer": "ipython3",
   "version": "3.7.6"
  }
 },
 "nbformat": 4,
 "nbformat_minor": 4
}
